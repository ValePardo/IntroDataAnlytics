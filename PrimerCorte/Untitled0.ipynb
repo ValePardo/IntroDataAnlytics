{
  "nbformat": 4,
  "nbformat_minor": 0,
  "metadata": {
    "colab": {
      "provenance": []
    },
    "kernelspec": {
      "name": "python3",
      "display_name": "Python 3"
    },
    "language_info": {
      "name": "python"
    }
  },
  "cells": [
    {
      "cell_type": "markdown",
      "source": [
        "#Mi primer analisis\n",
        "\n"
      ],
      "metadata": {
        "id": "Wg2ReP_dQaPH"
      }
    },
    {
      "cell_type": "markdown",
      "source": [
        "##Seccion 0"
      ],
      "metadata": {
        "id": "GAoH2B1YV9AS"
      }
    },
    {
      "cell_type": "code",
      "source": [
        "2*15\n"
      ],
      "metadata": {
        "colab": {
          "base_uri": "https://localhost:8080/"
        },
        "id": "MvGTIsLOQc2G",
        "outputId": "112e3772-2b97-486a-e1f2-274c58f57d3c"
      },
      "execution_count": 1,
      "outputs": [
        {
          "output_type": "execute_result",
          "data": {
            "text/plain": [
              "30"
            ]
          },
          "metadata": {},
          "execution_count": 1
        }
      ]
    },
    {
      "cell_type": "markdown",
      "source": [
        "##Seccion 1\n"
      ],
      "metadata": {
        "id": "Xz4HS2KtWFLw"
      }
    },
    {
      "cell_type": "code",
      "source": [
        "print(\"Hola mundo\")"
      ],
      "metadata": {
        "colab": {
          "base_uri": "https://localhost:8080/"
        },
        "id": "jFw6mB0gQk7G",
        "outputId": "35adb323-0ada-4864-896e-6b89271d846e"
      },
      "execution_count": 2,
      "outputs": [
        {
          "output_type": "stream",
          "name": "stdout",
          "text": [
            "Hola mundo\n"
          ]
        }
      ]
    }
  ]
}